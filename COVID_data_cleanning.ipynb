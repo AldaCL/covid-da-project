{
 "cells": [
  {
   "cell_type": "markdown",
   "id": "80ad1a2b-db78-4e3f-8dd9-b293fc34540c",
   "metadata": {},
   "source": [
    "# Covid data analysis project\n",
    "\n",
    "## Team members:\n",
    "- Coconi\n",
    "- Sánchez\n",
    "- Cortés\n",
    "\n"
   ]
  },
  {
   "cell_type": "code",
   "execution_count": null,
   "id": "2c5fd1e2-a115-4a3a-9ee0-9e8217a74e09",
   "metadata": {},
   "outputs": [],
   "source": []
  },
  {
   "cell_type": "code",
   "execution_count": 3,
   "id": "6c05340f-a706-44aa-be89-83622e4a06e6",
   "metadata": {},
   "outputs": [],
   "source": [
    "import pandas as pd"
   ]
  }
 ],
 "metadata": {
  "kernelspec": {
   "display_name": "project",
   "language": "python",
   "name": "project"
  },
  "language_info": {
   "codemirror_mode": {
    "name": "ipython",
    "version": 3
   },
   "file_extension": ".py",
   "mimetype": "text/x-python",
   "name": "python",
   "nbconvert_exporter": "python",
   "pygments_lexer": "ipython3",
   "version": "3.12.7"
  }
 },
 "nbformat": 4,
 "nbformat_minor": 5
}
